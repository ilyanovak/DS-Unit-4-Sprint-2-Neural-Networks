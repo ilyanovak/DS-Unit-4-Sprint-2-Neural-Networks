{
  "nbformat": 4,
  "nbformat_minor": 0,
  "metadata": {
    "colab": {
      "name": "LS_DS_431_Intro_to_NN_Assignment.ipynb",
      "provenance": [],
      "collapsed_sections": []
    },
    "kernelspec": {
      "display_name": "Python 3",
      "language": "python",
      "name": "python3"
    },
    "language_info": {
      "codemirror_mode": {
        "name": "ipython",
        "version": 3
      },
      "file_extension": ".py",
      "mimetype": "text/x-python",
      "name": "python",
      "nbconvert_exporter": "python",
      "pygments_lexer": "ipython3",
      "version": "3.7.3"
    }
  },
  "cells": [
    {
      "cell_type": "markdown",
      "metadata": {
        "colab_type": "text",
        "id": "dVfaLrjLvxvQ"
      },
      "source": [
        "<img align=\"left\" src=\"https://lever-client-logos.s3.amazonaws.com/864372b1-534c-480e-acd5-9711f850815c-1524247202159.png\" width=200>\n",
        "<br></br>\n",
        "<br></br>\n",
        "\n",
        "# Neural Networks\n",
        "\n",
        "## *Data Science Unit 4 Sprint 2 Assignment 1*"
      ]
    },
    {
      "cell_type": "markdown",
      "metadata": {
        "colab_type": "text",
        "id": "wxtoY12mwmih"
      },
      "source": [
        "## Define the Following:\n",
        "You can add image, diagrams, whatever you need to ensure that you understand the concepts below.\n",
        "\n",
        "### **Input Layer:** A set of neurons which contain initial inpute data that is fed into the neural network. It is in the form of a matrix, with each rows a different observation and each column a different feature.\n",
        "### **Hidden Layer:** A set of neurons in between the Input and Output Layers, in which each neuron calculated a weighted sum of the input data returns a value calculated by an \"activation function\" whose input is the weighted sum.\n",
        "### **Output Layer:** A set of neurons which receive the results from the hidden layers and return the neural network's final calculation.\n",
        "### **Neuron:** A individual node of a neural network's layers takes in some input data feeds that to calculate a weight sum, feeds that into an activation function, and feeds a resulting value to the next layer of neurons.\n",
        "### **Weight:** A float value which is used to compress or decompress some input data, depending on how much meaningful information contained in that data.\n",
        "### **Activation Function:** A function whose input is a neuron's weighted sum and returns a value whose form is dependent on the neural network's objective (regression, classification, etc.) \n",
        "### **Node Map:** A visual representation of the neural network's layers, neurons, and weights.\n",
        "### **Perceptron:** A type of algorithm used in neural networks that is used to classify an object. \n"
      ]
    },
    {
      "cell_type": "markdown",
      "metadata": {
        "colab_type": "text",
        "id": "NXuy9WcWzxa4"
      },
      "source": [
        "## Inputs -> Outputs\n",
        "\n",
        "### Explain the flow of information through a neural network from inputs to outputs. Be sure to include: inputs, weights, bias, and activation functions. How does it all flow from beginning to end?"
      ]
    },
    {
      "cell_type": "markdown",
      "metadata": {
        "colab_type": "text",
        "id": "PlSwIJMC0A8F"
      },
      "source": [
        "The initial data is stored in a matrix whose rows are observations and columns are features. This is called the Input Layer. This data is fed into one or more Hidden Layers, each of whose output is fed into the next sequential Hidden Layer. Each Hidden Layer is comprosed of multiple Neurons. A Neuron is fed the data from the previous layer and calculates a weighted sum of this data using a set of float parameters titled Weights. This weighted sum is adjusted using a Bias value. The resulting value is fed into an Activation Function which returns a value whose form dependets on the network's objective. This value is fed into the next layer and so on until its final regression or classification value is returned in the Output Layer."
      ]
    },
    {
      "cell_type": "markdown",
      "metadata": {
        "colab_type": "text",
        "id": "6sWR43PTwhSk"
      },
      "source": [
        "## Write your own perceptron code that can correctly classify (99.0% accuracy) a NAND gate. \n",
        "\n",
        "| x1 | x2 | y |\n",
        "|----|----|---|\n",
        "| 0  | 0  | 1 |\n",
        "| 1  | 0  | 1 |\n",
        "| 0  | 1  | 1 |\n",
        "| 1  | 1  | 0 |"
      ]
    },
    {
      "cell_type": "code",
      "metadata": {
        "colab_type": "code",
        "id": "Sgh7VFGwnXGH",
        "colab": {
          "base_uri": "https://localhost:8080/",
          "height": 281
        },
        "outputId": "91c77b24-1694-4612-d65d-9721f386c670"
      },
      "source": [
        "import numpy as np\n",
        "\n",
        "X = np.array([\n",
        "     [0, 0],\n",
        "     [1, 0],\n",
        "     [0, 1],\n",
        "     [1, 1]\n",
        "     ])\n",
        "\n",
        "Y = np.array([[1], [1], [1], [0]])\n",
        "\n",
        "class Perceptron:\n",
        "\n",
        "    def __init__(self, n_iter = 1000):\n",
        "        self.n_iter = n_iter\n",
        "        self.errors = []\n",
        "\n",
        "    def sigmoid(self, X):\n",
        "        return 1/(1+np.exp(-X))\n",
        "\n",
        "    def sigmoid_derivative(self, X):\n",
        "        sx = sigmoid(X)\n",
        "        return sx*(1-sx)\n",
        "    \n",
        "    def fit(self, X, Y):\n",
        "        weights = np.random.randn(2, 1)\n",
        "        for i in range(self.n_iter):\n",
        "            weighted_sum = np.dot(X, weights)\n",
        "            activated_output = self.sigmoid(weighted_sum)\n",
        "            error = Y - activated_output\n",
        "            adjustment = error * self.sigmoid_derivative(weighted_sum)\n",
        "            weights = weights + np.dot(X.T, adjustment)\n",
        "            self.errors.append(error.mean())\n",
        "\n",
        "network = Perceptron()\n",
        "network.fit(X, Y)\n",
        "\n",
        "from matplotlib import pyplot as plt\n",
        "plt.plot(range(1, len(network.errors) + 1), network.errors, marker='o')\n",
        "plt.xlabel('Iteration')\n",
        "plt.ylabel('Error')\n",
        "plt.show()"
      ],
      "execution_count": 439,
      "outputs": [
        {
          "output_type": "display_data",
          "data": {
            "image/png": "[encoded data removed]",
            "text/plain": [
              "<Figure size 432x288 with 1 Axes>"
            ]
          },
          "metadata": {
            "tags": [],
            "needs_background": "light"
          }
        }
      ]
    },
    {
      "cell_type": "markdown",
      "metadata": {
        "colab_type": "text",
        "id": "Xf7sdqVs0s4x"
      },
      "source": [
        "## Implement your own Perceptron Class and use it to classify a binary dataset: \n",
        "- [The Pima Indians Diabetes dataset](https://raw.githubusercontent.com/ryanleeallred/datasets/master/diabetes.csv) \n",
        "\n",
        "You may need to search for other's implementations in order to get inspiration for your own. There are *lots* of perceptron implementations on the internet with varying levels of sophistication and complexity. Whatever your approach, make sure you understand **every** line of your implementation and what its purpose is."
      ]
    },
    {
      "cell_type": "code",
      "metadata": {
        "id": "YXk442vaXQcu",
        "colab_type": "code",
        "colab": {
          "base_uri": "https://localhost:8080/",
          "height": 206
        },
        "outputId": "c5d5f8cf-835d-44c6-fa51-cd6740305756"
      },
      "source": [
        "diabetes = pd.read_csv('https://raw.githubusercontent.com/ryanleeallred/datasets/master/diabetes.csv')\n",
        "diabetes.head()"
      ],
      "execution_count": 364,
      "outputs": [
        {
          "output_type": "execute_result",
          "data": {
            "text/html": [
              "<div>\n",
              "<style scoped>\n",
              "    .dataframe tbody tr th:only-of-type {\n",
              "        vertical-align: middle;\n",
              "    }\n",
              "\n",
              "    .dataframe tbody tr th {\n",
              "        vertical-align: top;\n",
              "    }\n",
              "\n",
              "    .dataframe thead th {\n",
              "        text-align: right;\n",
              "    }\n",
              "</style>\n",
              "<table border=\"1\" class=\"dataframe\">\n",
              "  <thead>\n",
              "    <tr style=\"text-align: right;\">\n",
              "      <th></th>\n",
              "      <th>Pregnancies</th>\n",
              "      <th>Glucose</th>\n",
              "      <th>BloodPressure</th>\n",
              "      <th>SkinThickness</th>\n",
              "      <th>Insulin</th>\n",
              "      <th>BMI</th>\n",
              "      <th>DiabetesPedigreeFunction</th>\n",
              "      <th>Age</th>\n",
              "      <th>Outcome</th>\n",
              "    </tr>\n",
              "  </thead>\n",
              "  <tbody>\n",
              "    <tr>\n",
              "      <th>0</th>\n",
              "      <td>6</td>\n",
              "      <td>148</td>\n",
              "      <td>72</td>\n",
              "      <td>35</td>\n",
              "      <td>0</td>\n",
              "      <td>33.6</td>\n",
              "      <td>0.627</td>\n",
              "      <td>50</td>\n",
              "      <td>1</td>\n",
              "    </tr>\n",
              "    <tr>\n",
              "      <th>1</th>\n",
              "      <td>1</td>\n",
              "      <td>85</td>\n",
              "      <td>66</td>\n",
              "      <td>29</td>\n",
              "      <td>0</td>\n",
              "      <td>26.6</td>\n",
              "      <td>0.351</td>\n",
              "      <td>31</td>\n",
              "      <td>0</td>\n",
              "    </tr>\n",
              "    <tr>\n",
              "      <th>2</th>\n",
              "      <td>8</td>\n",
              "      <td>183</td>\n",
              "      <td>64</td>\n",
              "      <td>0</td>\n",
              "      <td>0</td>\n",
              "      <td>23.3</td>\n",
              "      <td>0.672</td>\n",
              "      <td>32</td>\n",
              "      <td>1</td>\n",
              "    </tr>\n",
              "    <tr>\n",
              "      <th>3</th>\n",
              "      <td>1</td>\n",
              "      <td>89</td>\n",
              "      <td>66</td>\n",
              "      <td>23</td>\n",
              "      <td>94</td>\n",
              "      <td>28.1</td>\n",
              "      <td>0.167</td>\n",
              "      <td>21</td>\n",
              "      <td>0</td>\n",
              "    </tr>\n",
              "    <tr>\n",
              "      <th>4</th>\n",
              "      <td>0</td>\n",
              "      <td>137</td>\n",
              "      <td>40</td>\n",
              "      <td>35</td>\n",
              "      <td>168</td>\n",
              "      <td>43.1</td>\n",
              "      <td>2.288</td>\n",
              "      <td>33</td>\n",
              "      <td>1</td>\n",
              "    </tr>\n",
              "  </tbody>\n",
              "</table>\n",
              "</div>"
            ],
            "text/plain": [
              "   Pregnancies  Glucose  BloodPressure  ...  DiabetesPedigreeFunction  Age  Outcome\n",
              "0            6      148             72  ...                     0.627   50        1\n",
              "1            1       85             66  ...                     0.351   31        0\n",
              "2            8      183             64  ...                     0.672   32        1\n",
              "3            1       89             66  ...                     0.167   21        0\n",
              "4            0      137             40  ...                     2.288   33        1\n",
              "\n",
              "[5 rows x 9 columns]"
            ]
          },
          "metadata": {
            "tags": []
          },
          "execution_count": 364
        }
      ]
    },
    {
      "cell_type": "markdown",
      "metadata": {
        "id": "8D9sWGZkXQc5",
        "colab_type": "text"
      },
      "source": [
        "Although neural networks can handle non-normalized data, scaling or normalizing your data will improve your neural network's learning speed. Try to apply the sklearn `MinMaxScaler` or `Normalizer` to your diabetes dataset. "
      ]
    },
    {
      "cell_type": "code",
      "metadata": {
        "colab_type": "code",
        "id": "-W0tiX1F1hh2",
        "colab": {
          "base_uri": "https://localhost:8080/",
          "height": 279
        },
        "outputId": "54f8e40d-a2fd-4884-bb81-2eb2433e2f59"
      },
      "source": [
        "##### Update this Class #####\n",
        "\n",
        "import numpy as np\n",
        "from sklearn.preprocessing import MinMaxScaler, Normalizer\n",
        "\n",
        "scaler = MinMaxScaler()\n",
        "\n",
        "features = list(diabetes)[:-1]\n",
        "X = scaler.fit_transform(diabetes[features])\n",
        "Y = diabetes['Outcome']\n",
        "\n",
        "class Perceptron_b:\n",
        "    \n",
        "    def __init__(self, niter = 100):\n",
        "        self.niter = niter\n",
        "        self.errors = []\n",
        "        self.weights = None\n",
        "    \n",
        "    def __sigmoid(self, x):\n",
        "        return 1/(1+np.exp(-x))\n",
        "    \n",
        "    def __sigmoid_derivative(self, x):\n",
        "        sx = sigmoid(x)\n",
        "        return sx*(1-sx)\n",
        "\n",
        "    def fit(self, X, y):\n",
        "        \"\"\"\n",
        "        Fit training data\n",
        "        X : Training vectors, X.shape : [#samples, #features]\n",
        "        y : Target values, y.shape : [#samples]\n",
        "        \"\"\"\n",
        "\n",
        "        X = np.array(X)\n",
        "        y = np.array(Y).reshape(len(y), 1)\n",
        "\n",
        "        # Randomly Initialize Weights\n",
        "        self.weights = np.random.randn(X.shape[1], 1)\n",
        "\n",
        "        for i in range(self.niter):\n",
        "            # Weighted sum of inputs / weights\n",
        "            weighted_sum = np.dot(X, self.weights)\n",
        "\n",
        "            # Activate!\n",
        "            activated_output = self.__sigmoid(weighted_sum)\n",
        "\n",
        "            # Calc error\n",
        "            error = y - activated_output\n",
        "\n",
        "            # Update the Weights\n",
        "            adjustment = error * self.__sigmoid_derivative(weighted_sum)\n",
        "            self.weights = self.weights + np.dot(X.T, adjustment)\n",
        "            self.errors.append(error.mean())\n",
        "\n",
        "    def predict(self, X):\n",
        "        \"\"\"\n",
        "        Return class label after unit step\n",
        "        \"\"\"\n",
        "        weighted_sum = np.dot(X, self.weights)\n",
        "        activated_output = self.__sigmoid(weighted_sum)\n",
        "        return int(np.round(activated_output))\n",
        "\n",
        "network_b = Perceptron_b()\n",
        "network_b.fit(X, Y)\n",
        "\n",
        "from matplotlib import pyplot as plt\n",
        "plt.plot(range(1, len(network_b.errors) + 1), network_b.errors, marker='o')\n",
        "plt.xlabel('Iteration')\n",
        "plt.ylabel('Error')\n",
        "plt.show()"
      ],
      "execution_count": 442,
      "outputs": [
        {
          "output_type": "display_data",
          "data": {
            "image/png": "[encoded data removed]",
            "text/plain": [
              "<Figure size 432x288 with 1 Axes>"
            ]
          },
          "metadata": {
            "tags": [],
            "needs_background": "light"
          }
        }
      ]
    },
    {
      "cell_type": "markdown",
      "metadata": {
        "colab_type": "text",
        "id": "6QR4oAW1xdyu"
      },
      "source": [
        "## Stretch Goals:\n",
        "\n",
        "- Research \"backpropagation\" to learn how weights get updated in neural networks (tomorrow's lecture). \n",
        "- Implement a multi-layer perceptron. (for non-linearly separable classes)\n",
        "- Try and implement your own backpropagation algorithm.\n",
        "- What are the pros and cons of the different activation functions? How should you decide between them for the different layers of a neural network?"
      ]
    }
  ]
}